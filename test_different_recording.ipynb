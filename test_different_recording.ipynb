{
  "cells": [
    {
      "cell_type": "code",
      "execution_count": 47,
      "metadata": {
        "id": "iDFws3DgnS12"
      },
      "outputs": [],
      "source": [
        "\n",
        "\n",
        "import pandas as pd\n",
        "import numpy as np\n",
        "from sklearn.preprocessing import StandardScaler\n",
        "from sklearn.pipeline import Pipeline\n",
        "from sklearn.linear_model import LogisticRegression, SGDClassifier\n",
        "from sklearn.neural_network import MLPClassifier\n",
        "from sklearn.ensemble import RandomForestClassifier\n",
        "from sklearn.metrics import roc_auc_score, precision_score, recall_score\n",
        "from sklearn.metrics import confusion_matrix\n",
        "from sklearn.metrics import classification_report\n"
      ]
    },
    {
      "cell_type": "markdown",
      "metadata": {
        "id": "8w4A80rEw5Y0"
      },
      "source": [
        "# Obtain labels for patients recorded with different method"
      ]
    },
    {
      "cell_type": "code",
      "execution_count": 28,
      "metadata": {
        "colab": {
          "base_uri": "https://localhost:8080/"
        },
        "id": "Irm3h4PDtc5N",
        "outputId": "9b471aa4-03f4-401c-d08e-6c3296ab69d0"
      },
      "outputs": [
        {
          "name": "stdout",
          "output_type": "stream",
          "text": [
            "130\n",
            "24\n"
          ]
        }
      ],
      "source": [
        "url_train = f'https://github.com/danielmlow/vfp/raw/master/data/output/vfp_v8_wo-24-patients/egemaps_vector_{data_type}_wo-24-patients.csv?raw=true' #'copied_raw_github_link'\n",
        "df_train = pd.read_csv(url_train,  sep=',', encoding='latin1', index_col = 0)\n",
        "\n",
        "recordingA_wo_24_patients = df_train.sid.unique() \n",
        "\n",
        "'''\n",
        "recordingA_wo_24_patients = ['VFP10', 'VFP11', 'VFP14', 'VFP15', 'VFP16', 'VFP17', 'VFP19',\n",
        "       'VFP1', 'VFP20', 'VFP21', 'VFP22', 'VFP23', 'VFP25', 'VFP26',\n",
        "       'VFP2', 'VFP30', 'VFP32', 'VFP34', 'VFP35', 'VFP36', 'VFP37',\n",
        "       'VFP39', 'VFP40', 'VFP41', 'VFP42', 'VFP43', 'VFP44', 'VFP45',\n",
        "       'VFP46', 'VFP47', 'VFP48', 'VFP49', 'VFP50', 'VFP51', 'VFP52',\n",
        "       'VFP57', 'VFP58', 'VFP59', 'VFP60', 'VFP61', 'VFP62', 'VFP63',\n",
        "       'VFP67', 'VFP68', 'VFP69', 'VFP6', 'VFP70', 'VFP72', 'VFP73',\n",
        "       'VFP75', 'VFP76', 'VFP77', 'VFP7', 'VFPNorm10', 'VFPNorm11',\n",
        "       'VFPNorm12', 'VFPNorm13', 'VFPNorm14', 'VFPNorm15', 'VFPNorm16',\n",
        "       'VFPNorm17', 'VFPNorm18', 'VFPNorm19', 'VFPNorm1', 'VFPNorm20',\n",
        "       'VFPNorm21', 'VFPNorm22', 'VFPNorm23', 'VFPNorm24', 'VFPNorm25',\n",
        "       'VFPNorm26', 'VFPNorm27', 'VFPNorm28', 'VFPNorm29', 'VFPNorm2',\n",
        "       'VFPNorm30', 'VFPNorm31', 'VFPNorm32', 'VFPNorm33', 'VFPNorm34',\n",
        "       'VFPNorm35', 'VFPNorm36', 'VFPNorm37', 'VFPNorm38', 'VFPNorm39',\n",
        "       'VFPNorm3', 'VFPNorm40', 'VFPNorm41', 'VFPNorm42', 'VFPNorm43',\n",
        "       'VFPNorm44', 'VFPNorm45', 'VFPNorm46', 'VFPNorm47', 'VFPNorm48',\n",
        "       'VFPNorm49', 'VFPNorm4', 'VFPNorm50', 'VFPNorm51', 'VFPNorm52',\n",
        "       'VFPNorm53', 'VFPNorm54', 'VFPNorm55', 'VFPNorm56', 'VFPNorm57',\n",
        "       'VFPNorm58', 'VFPNorm59', 'VFPNorm5', 'VFPNorm60', 'VFPNorm61',\n",
        "       'VFPNorm62', 'VFPNorm63', 'VFPNorm64', 'VFPNorm65', 'VFPNorm66',\n",
        "       'VFPNorm67', 'VFPNorm68', 'VFPNorm69', 'VFPNorm6', 'VFPNorm70',\n",
        "       'VFPNorm71', 'VFPNorm72', 'VFPNorm73', 'VFPNorm74', 'VFPNorm75',\n",
        "       'VFPNorm76', 'VFPNorm77', 'VFPNorm7', 'VFPNorm8', 'VFPNorm9'] \n",
        "'''\n",
        "print(len(recordingA_wo_24_patients))\n",
        "\n",
        "\n",
        "\n",
        "url_test = f'https://github.com/danielmlow/vfp/raw/master/data/input/features/egemaps_vector_{data_type}.csv?raw=true' #'copied raw github button'\n",
        "df_test = pd.read_csv(url_test,  sep=',', encoding='latin1', index_col = 0)\n",
        "\n",
        "df_test = df_test[~df_test.sid.isin(recordingA_wo_24_patients)]\n",
        "recordingB_24_patients = df_test.sid.unique() # 24 patients\n",
        "\n",
        "'''\n",
        "recordingB_24_patients = ['VFP12', 'VFP13', 'VFP18', 'VFP24', 'VFP27', 'VFP28', 'VFP29',\n",
        "       'VFP31', 'VFP33', 'VFP38', 'VFP3', 'VFP4', 'VFP53', 'VFP54',\n",
        "       'VFP55', 'VFP56', 'VFP5', 'VFP64', 'VFP65', 'VFP66', 'VFP71',\n",
        "       'VFP74', 'VFP8', 'VFP9']\n",
        "'''\n",
        "print(len(recordingB_24_patients))"
      ]
    },
    {
      "cell_type": "code",
      "execution_count": 88,
      "metadata": {
        "colab": {
          "base_uri": "https://localhost:8080/",
          "height": 412
        },
        "id": "rqJC9zJpAOe1",
        "outputId": "dd0d8cff-d790-4582-a3d4-06caf74a89f5"
      },
      "outputs": [
        {
          "data": {
            "text/html": [
              "<div>\n",
              "<style scoped>\n",
              "    .dataframe tbody tr th:only-of-type {\n",
              "        vertical-align: middle;\n",
              "    }\n",
              "\n",
              "    .dataframe tbody tr th {\n",
              "        vertical-align: top;\n",
              "    }\n",
              "\n",
              "    .dataframe thead th {\n",
              "        text-align: right;\n",
              "    }\n",
              "</style>\n",
              "<table border=\"1\" class=\"dataframe\">\n",
              "  <thead>\n",
              "    <tr style=\"text-align: right;\">\n",
              "      <th></th>\n",
              "      <th>ID:</th>\n",
              "      <th>Age:</th>\n",
              "      <th>Sex:</th>\n",
              "      <th>Occupation:</th>\n",
              "      <th>Side of Paralysis</th>\n",
              "      <th>ID:.1</th>\n",
              "      <th>Age:.1</th>\n",
              "      <th>Sex:.1</th>\n",
              "      <th>Occupation:.1</th>\n",
              "    </tr>\n",
              "  </thead>\n",
              "  <tbody>\n",
              "    <tr>\n",
              "      <th>0</th>\n",
              "      <td>VFP1</td>\n",
              "      <td>58</td>\n",
              "      <td>F</td>\n",
              "      <td>Homemaker</td>\n",
              "      <td>Left VF paralysis</td>\n",
              "      <td>VFPNorm1</td>\n",
              "      <td>58</td>\n",
              "      <td>F</td>\n",
              "      <td>Administrative assistant</td>\n",
              "    </tr>\n",
              "    <tr>\n",
              "      <th>1</th>\n",
              "      <td>VFP2</td>\n",
              "      <td>74</td>\n",
              "      <td>M</td>\n",
              "      <td>Retired accountant</td>\n",
              "      <td>Left VF paralysis</td>\n",
              "      <td>VFPNorm2</td>\n",
              "      <td>75</td>\n",
              "      <td>M</td>\n",
              "      <td>Attorney</td>\n",
              "    </tr>\n",
              "    <tr>\n",
              "      <th>2</th>\n",
              "      <td>VFP3</td>\n",
              "      <td>72</td>\n",
              "      <td>F</td>\n",
              "      <td>Reitred teacher</td>\n",
              "      <td>Left VF paralysis</td>\n",
              "      <td>VFPNorm3</td>\n",
              "      <td>70</td>\n",
              "      <td>F</td>\n",
              "      <td>Retired singing teacher and artist</td>\n",
              "    </tr>\n",
              "    <tr>\n",
              "      <th>3</th>\n",
              "      <td>VFP4</td>\n",
              "      <td>58</td>\n",
              "      <td>F</td>\n",
              "      <td>None</td>\n",
              "      <td>Right VF Paralysis</td>\n",
              "      <td>VFPNorm4</td>\n",
              "      <td>58</td>\n",
              "      <td>F</td>\n",
              "      <td>Break glass</td>\n",
              "    </tr>\n",
              "    <tr>\n",
              "      <th>4</th>\n",
              "      <td>VFP5</td>\n",
              "      <td>61</td>\n",
              "      <td>M</td>\n",
              "      <td>None</td>\n",
              "      <td>Right VF Paralysis</td>\n",
              "      <td>VFPNorm5</td>\n",
              "      <td>61</td>\n",
              "      <td>M</td>\n",
              "      <td>Nurse and firefighter</td>\n",
              "    </tr>\n",
              "    <tr>\n",
              "      <th>...</th>\n",
              "      <td>...</td>\n",
              "      <td>...</td>\n",
              "      <td>...</td>\n",
              "      <td>...</td>\n",
              "      <td>...</td>\n",
              "      <td>...</td>\n",
              "      <td>...</td>\n",
              "      <td>...</td>\n",
              "      <td>...</td>\n",
              "    </tr>\n",
              "    <tr>\n",
              "      <th>72</th>\n",
              "      <td>VFP73</td>\n",
              "      <td>89</td>\n",
              "      <td>M</td>\n",
              "      <td>Owns/operates Cedardale club</td>\n",
              "      <td>Left VF paralysis</td>\n",
              "      <td>VFPNorm73</td>\n",
              "      <td>87</td>\n",
              "      <td>M</td>\n",
              "      <td>Retired custodian</td>\n",
              "    </tr>\n",
              "    <tr>\n",
              "      <th>73</th>\n",
              "      <td>VFP74</td>\n",
              "      <td>56</td>\n",
              "      <td>F</td>\n",
              "      <td>Senior VP of hospitality group</td>\n",
              "      <td>Left VF paralysis</td>\n",
              "      <td>VFPNorm74</td>\n",
              "      <td>56</td>\n",
              "      <td>F</td>\n",
              "      <td>Academic college counselor</td>\n",
              "    </tr>\n",
              "    <tr>\n",
              "      <th>74</th>\n",
              "      <td>VFP75</td>\n",
              "      <td>77</td>\n",
              "      <td>M</td>\n",
              "      <td>Retired facility worker</td>\n",
              "      <td>Right VF Paralysis</td>\n",
              "      <td>VFPNorm75</td>\n",
              "      <td>77</td>\n",
              "      <td>M</td>\n",
              "      <td>Retired school teacher</td>\n",
              "    </tr>\n",
              "    <tr>\n",
              "      <th>75</th>\n",
              "      <td>VFP76</td>\n",
              "      <td>26</td>\n",
              "      <td>F</td>\n",
              "      <td>College Student (singer)</td>\n",
              "      <td>Left VF paralysis</td>\n",
              "      <td>VFPNorm76</td>\n",
              "      <td>25</td>\n",
              "      <td>F</td>\n",
              "      <td>Graduate in opera performance program</td>\n",
              "    </tr>\n",
              "    <tr>\n",
              "      <th>76</th>\n",
              "      <td>VFP77</td>\n",
              "      <td>17</td>\n",
              "      <td>M</td>\n",
              "      <td>None (student)</td>\n",
              "      <td>Right VF Paralysis</td>\n",
              "      <td>VFPNorm77</td>\n",
              "      <td>17</td>\n",
              "      <td>M</td>\n",
              "      <td>HS Senior</td>\n",
              "    </tr>\n",
              "  </tbody>\n",
              "</table>\n",
              "<p>77 rows × 9 columns</p>\n",
              "</div>"
            ],
            "text/plain": [
              "      ID:  Age: Sex:  ... Age:.1 Sex:.1                          Occupation:.1\n",
              "0    VFP1    58    F  ...     58      F               Administrative assistant\n",
              "1    VFP2    74    M  ...     75      M                               Attorney\n",
              "2    VFP3    72    F  ...     70      F     Retired singing teacher and artist\n",
              "3    VFP4    58    F  ...     58      F                            Break glass\n",
              "4    VFP5    61    M  ...     61      M                  Nurse and firefighter\n",
              "..    ...   ...  ...  ...    ...    ...                                    ...\n",
              "72  VFP73    89    M  ...     87      M                      Retired custodian\n",
              "73  VFP74    56    F  ...     56      F             Academic college counselor\n",
              "74  VFP75    77    M  ...     77      M                 Retired school teacher\n",
              "75  VFP76    26    F  ...     25      F  Graduate in opera performance program\n",
              "76  VFP77    17    M  ...     17      M                              HS Senior\n",
              "\n",
              "[77 rows x 9 columns]"
            ]
          },
          "execution_count": 88,
          "metadata": {
            "tags": []
          },
          "output_type": "execute_result"
        }
      ],
      "source": [
        "# Find matched controls to UVFP patients in train set\n",
        "url = f'https://github.com/danielmlow/vfp/raw/master/data/input/VFP_DeidentifiedDemographics.csv' #'copied_raw_github_link'\n",
        "demographics = pd.read_csv(url,  sep=',')\n",
        "demographics\n"
      ]
    },
    {
      "cell_type": "code",
      "execution_count": 112,
      "metadata": {
        "colab": {
          "base_uri": "https://localhost:8080/"
        },
        "id": "RU7TbkBWBFrE",
        "outputId": "7fed9290-b58e-4d87-e27c-da78a19351d2"
      },
      "outputs": [
        {
          "name": "stdout",
          "output_type": "stream",
          "text": [
            "53 ['VFP10', 'VFP11', 'VFP14', 'VFP15', 'VFP16', 'VFP17', 'VFP19', 'VFP1', 'VFP20', 'VFP21', 'VFP22', 'VFP23', 'VFP25', 'VFP26', 'VFP2', 'VFP30', 'VFP32', 'VFP34', 'VFP35', 'VFP36', 'VFP37', 'VFP39', 'VFP40', 'VFP41', 'VFP42', 'VFP43', 'VFP44', 'VFP45', 'VFP46', 'VFP47', 'VFP48', 'VFP49', 'VFP50', 'VFP51', 'VFP52', 'VFP57', 'VFP58', 'VFP59', 'VFP60', 'VFP61', 'VFP62', 'VFP63', 'VFP67', 'VFP68', 'VFP69', 'VFP6', 'VFP70', 'VFP72', 'VFP73', 'VFP75', 'VFP76', 'VFP77', 'VFP7']\n",
            "53 ['VFPNorm10', 'VFPNorm11', 'VFPNorm14', 'VFPNorm15', 'VFPNorm16', 'VFPNorm17', 'VFPNorm19', 'VFPNorm1', 'VFPNorm20', 'VFPNorm21', 'VFPNorm22', 'VFPNorm23', 'VFPNorm25', 'VFPNorm26', 'VFPNorm2', 'VFPNorm30', 'VFPNorm32', 'VFPNorm34', 'VFPNorm35', 'VFPNorm36', 'VFPNorm37', 'VFPNorm39', 'VFPNorm40', 'VFPNorm41', 'VFPNorm42', 'VFPNorm43', 'VFPNorm44', 'VFPNorm45', 'VFPNorm46', 'VFPNorm47', 'VFPNorm48', 'VFPNorm49', 'VFPNorm50', 'VFPNorm51', 'VFPNorm52', 'VFPNorm57', 'VFPNorm58', 'VFPNorm59', 'VFPNorm60', 'VFPNorm61', 'VFPNorm62', 'VFPNorm63', 'VFPNorm67', 'VFPNorm68', 'VFPNorm69', 'VFPNorm6', 'VFPNorm70', 'VFPNorm72', 'VFPNorm73', 'VFPNorm75', 'VFPNorm76', 'VFPNorm77', 'VFPNorm7']\n",
            "106 ['VFP10', 'VFP11', 'VFP14', 'VFP15', 'VFP16', 'VFP17', 'VFP19', 'VFP1', 'VFP20', 'VFP21', 'VFP22', 'VFP23', 'VFP25', 'VFP26', 'VFP2', 'VFP30', 'VFP32', 'VFP34', 'VFP35', 'VFP36', 'VFP37', 'VFP39', 'VFP40', 'VFP41', 'VFP42', 'VFP43', 'VFP44', 'VFP45', 'VFP46', 'VFP47', 'VFP48', 'VFP49', 'VFP50', 'VFP51', 'VFP52', 'VFP57', 'VFP58', 'VFP59', 'VFP60', 'VFP61', 'VFP62', 'VFP63', 'VFP67', 'VFP68', 'VFP69', 'VFP6', 'VFP70', 'VFP72', 'VFP73', 'VFP75', 'VFP76', 'VFP77', 'VFP7', 'VFPNorm10', 'VFPNorm11', 'VFPNorm14', 'VFPNorm15', 'VFPNorm16', 'VFPNorm17', 'VFPNorm19', 'VFPNorm1', 'VFPNorm20', 'VFPNorm21', 'VFPNorm22', 'VFPNorm23', 'VFPNorm25', 'VFPNorm26', 'VFPNorm2', 'VFPNorm30', 'VFPNorm32', 'VFPNorm34', 'VFPNorm35', 'VFPNorm36', 'VFPNorm37', 'VFPNorm39', 'VFPNorm40', 'VFPNorm41', 'VFPNorm42', 'VFPNorm43', 'VFPNorm44', 'VFPNorm45', 'VFPNorm46', 'VFPNorm47', 'VFPNorm48', 'VFPNorm49', 'VFPNorm50', 'VFPNorm51', 'VFPNorm52', 'VFPNorm57', 'VFPNorm58', 'VFPNorm59', 'VFPNorm60', 'VFPNorm61', 'VFPNorm62', 'VFPNorm63', 'VFPNorm67', 'VFPNorm68', 'VFPNorm69', 'VFPNorm6', 'VFPNorm70', 'VFPNorm72', 'VFPNorm73', 'VFPNorm75', 'VFPNorm76', 'VFPNorm77', 'VFPNorm7']\n"
          ]
        }
      ],
      "source": [
        "#Downsample: now training set is unbalanced (60 controls - 40 UVFP), so keep only matched controls to remaining UVFP patients.\n",
        "\n",
        "patients_train_set = [n for n in recordingA_wo_24_patients if 'Norm' not in n]\n",
        "matched_controls = [('VFPNorm'+n.split('VFP')[1]) for n in patients_train_set]\n",
        "print(len(patients_train_set),patients_train_set)\n",
        "print(len(matched_controls), matched_controls)\n",
        "combined = patients_train_set+matched_controls\n",
        "print(len(combined),combined)"
      ]
    },
    {
      "cell_type": "markdown",
      "metadata": {
        "id": "sWcqeFDyw-o7"
      },
      "source": [
        "# Run models"
      ]
    },
    {
      "cell_type": "code",
      "execution_count": 106,
      "metadata": {
        "id": "UusOJlHQoFKK"
      },
      "outputs": [],
      "source": [
        "\n",
        "data_types = ['speech','vowel', 'both']\n",
        "x_indices = [\"F0semitoneFrom27.5Hz_sma3nz_amean\", \"F0semitoneFrom27.5Hz_sma3nz_meanFallingSlope\", \"F0semitoneFrom27.5Hz_sma3nz_meanRisingSlope\", \"F0semitoneFrom27.5Hz_sma3nz_pctlrange0-2\", \"F0semitoneFrom27.5Hz_sma3nz_percentile20.0\", \"F0semitoneFrom27.5Hz_sma3nz_percentile50.0\", \"F0semitoneFrom27.5Hz_sma3nz_percentile80.0\", \"F0semitoneFrom27.5Hz_sma3nz_stddevFallingSlope\", \"F0semitoneFrom27.5Hz_sma3nz_stddevNorm\", \"F0semitoneFrom27.5Hz_sma3nz_stddevRisingSlope\", \"F1amplitudeLogRelF0_sma3nz_amean\", \"F1amplitudeLogRelF0_sma3nz_stddevNorm\", \"F1bandwidth_sma3nz_amean\", \"F1bandwidth_sma3nz_stddevNorm\", \"F1frequency_sma3nz_amean\", \"F1frequency_sma3nz_stddevNorm\", \"F2amplitudeLogRelF0_sma3nz_amean\", \"F2amplitudeLogRelF0_sma3nz_stddevNorm\", \"F2bandwidth_sma3nz_amean\", \"F2bandwidth_sma3nz_stddevNorm\", \"F2frequency_sma3nz_amean\", \"F2frequency_sma3nz_stddevNorm\", \"F3amplitudeLogRelF0_sma3nz_amean\", \"F3amplitudeLogRelF0_sma3nz_stddevNorm\", \"F3bandwidth_sma3nz_amean\", \"F3bandwidth_sma3nz_stddevNorm\", \"F3frequency_sma3nz_amean\", \"F3frequency_sma3nz_stddevNorm\", \"HNRdBACF_sma3nz_amean\", \"HNRdBACF_sma3nz_stddevNorm\", \"MeanUnvoicedSegmentLength\", \"MeanVoicedSegmentLengthSec\", \"StddevUnvoicedSegmentLength\", \"StddevVoicedSegmentLengthSec\", \"VoicedSegmentsPerSec\", \"alphaRatioUV_sma3nz_amean\", \"alphaRatioV_sma3nz_amean\", \"alphaRatioV_sma3nz_stddevNorm\", \"equivalentSoundLevel_dBp\", \"hammarbergIndexUV_sma3nz_amean\", \"hammarbergIndexV_sma3nz_amean\", \"hammarbergIndexV_sma3nz_stddevNorm\", \"jitterLocal_sma3nz_amean\", \"jitterLocal_sma3nz_stddevNorm\", \"logRelF0-H1-A3_sma3nz_amean\", \"logRelF0-H1-A3_sma3nz_stddevNorm\", \"logRelF0-H1-H2_sma3nz_amean\", \"logRelF0-H1-H2_sma3nz_stddevNorm\", \"loudnessPeaksPerSec\", \"loudness_sma3_amean\", \"loudness_sma3_meanFallingSlope\", \"loudness_sma3_meanRisingSlope\", \"loudness_sma3_pctlrange0-2\", \"loudness_sma3_percentile20.0\", \"loudness_sma3_percentile50.0\", \"loudness_sma3_percentile80.0\", \"loudness_sma3_stddevFallingSlope\", \"loudness_sma3_stddevNorm\", \"loudness_sma3_stddevRisingSlope\", \"mfcc1V_sma3nz_amean\", \"mfcc1V_sma3nz_stddevNorm\", \"mfcc1_sma3_amean\", \"mfcc1_sma3_stddevNorm\", \"mfcc2V_sma3nz_amean\", \"mfcc2V_sma3nz_stddevNorm\", \"mfcc2_sma3_amean\", \"mfcc2_sma3_stddevNorm\", \"mfcc3V_sma3nz_amean\", \"mfcc3V_sma3nz_stddevNorm\", \"mfcc3_sma3_amean\", \"mfcc3_sma3_stddevNorm\", \"mfcc4V_sma3nz_amean\", \"mfcc4V_sma3nz_stddevNorm\", \"mfcc4_sma3_amean\", \"mfcc4_sma3_stddevNorm\", \"shimmerLocaldB_sma3nz_amean\", \"shimmerLocaldB_sma3nz_stddevNorm\", \"slopeUV0-500_sma3nz_amean\", \"slopeUV500-1500_sma3nz_amean\", \"slopeV0-500_sma3nz_amean\", \"slopeV0-500_sma3nz_stddevNorm\", \"slopeV500-1500_sma3nz_amean\", \"slopeV500-1500_sma3nz_stddevNorm\", \"spectralFluxUV_sma3nz_amean\", \"spectralFluxV_sma3nz_amean\", \"spectralFluxV_sma3nz_stddevNorm\", \"spectralFlux_sma3_amean\", \"spectralFlux_sma3_stddevNorm\"]\n",
        "classifier_names = ['LogisticRegression', 'MLP', 'RandomForest', 'SGD']\n",
        "\n",
        "classifiers = [\n",
        "          LogisticRegression(solver=\"liblinear\", penalty = \"l1\", max_iter = 100), \n",
        "          MLPClassifier(alpha= 1, max_iter= 1000),\n",
        "          RandomForestClassifier(n_estimators= 100),\n",
        "          SGDClassifier(loss= \"log\", penalty= \"elasticnet\", early_stopping= True, max_iter= 5000),\n",
        "          ]\n",
        "\n"
      ]
    },
    {
      "cell_type": "code",
      "execution_count": 127,
      "metadata": {
        "colab": {
          "base_uri": "https://localhost:8080/",
          "height": 1000
        },
        "id": "YXynBAhkoGF7",
        "outputId": "11090476-b900-4432-e03a-c5a375075fe9"
      },
      "outputs": [
        {
          "name": "stdout",
          "output_type": "stream",
          "text": [
            "speech\n",
            "speech LogisticRegression 0.08\n"
          ]
        },
        {
          "data": {
            "image/png": "[encoded data removed]",
            "text/plain": [
              "<Figure size 432x288 with 2 Axes>"
            ]
          },
          "metadata": {
            "needs_background": "light",
            "tags": []
          },
          "output_type": "display_data"
        },
        {
          "name": "stdout",
          "output_type": "stream",
          "text": [
            "\n",
            "==========\n",
            "\n",
            "\n",
            "speech MLP 0.36\n"
          ]
        },
        {
          "data": {
            "image/png": "[encoded data removed]",
            "text/plain": [
              "<Figure size 432x288 with 2 Axes>"
            ]
          },
          "metadata": {
            "needs_background": "light",
            "tags": []
          },
          "output_type": "display_data"
        },
        {
          "name": "stdout",
          "output_type": "stream",
          "text": [
            "\n",
            "==========\n",
            "\n",
            "\n",
            "speech RandomForest 0.14\n"
          ]
        },
        {
          "data": {
            "image/png": "[encoded data removed]",
            "text/plain": [
              "<Figure size 432x288 with 2 Axes>"
            ]
          },
          "metadata": {
            "needs_background": "light",
            "tags": []
          },
          "output_type": "display_data"
        },
        {
          "name": "stdout",
          "output_type": "stream",
          "text": [
            "\n",
            "==========\n",
            "\n",
            "\n",
            "speech SGD 0.12\n"
          ]
        },
        {
          "data": {
            "image/png": "[encoded data removed]",
            "text/plain": [
              "<Figure size 432x288 with 2 Axes>"
            ]
          },
          "metadata": {
            "needs_background": "light",
            "tags": []
          },
          "output_type": "display_data"
        },
        {
          "name": "stdout",
          "output_type": "stream",
          "text": [
            "\n",
            "==========\n",
            "\n",
            "\n",
            "vowel\n",
            "vowel LogisticRegression 0.1\n"
          ]
        },
        {
          "data": {
            "image/png": "[encoded data removed]",
            "text/plain": [
              "<Figure size 432x288 with 2 Axes>"
            ]
          },
          "metadata": {
            "needs_background": "light",
            "tags": []
          },
          "output_type": "display_data"
        },
        {
          "name": "stdout",
          "output_type": "stream",
          "text": [
            "\n",
            "==========\n",
            "\n",
            "\n",
            "vowel MLP 0.17\n"
          ]
        },
        {
          "data": {
            "image/png": "[encoded data removed]",
            "text/plain": [
              "<Figure size 432x288 with 2 Axes>"
            ]
          },
          "metadata": {
            "needs_background": "light",
            "tags": []
          },
          "output_type": "display_data"
        },
        {
          "name": "stdout",
          "output_type": "stream",
          "text": [
            "\n",
            "==========\n",
            "\n",
            "\n",
            "vowel RandomForest 0.31\n"
          ]
        },
        {
          "data": {
            "image/png": "[encoded data removed]",
            "text/plain": [
              "<Figure size 432x288 with 2 Axes>"
            ]
          },
          "metadata": {
            "needs_background": "light",
            "tags": []
          },
          "output_type": "display_data"
        },
        {
          "name": "stdout",
          "output_type": "stream",
          "text": [
            "\n",
            "==========\n",
            "\n",
            "\n",
            "vowel SGD 0.11\n"
          ]
        },
        {
          "data": {
            "image/png": "[encoded data removed]",
            "text/plain": [
              "<Figure size 432x288 with 2 Axes>"
            ]
          },
          "metadata": {
            "needs_background": "light",
            "tags": []
          },
          "output_type": "display_data"
        },
        {
          "name": "stdout",
          "output_type": "stream",
          "text": [
            "\n",
            "==========\n",
            "\n",
            "\n",
            "both\n",
            "both LogisticRegression 0.12\n"
          ]
        },
        {
          "data": {
            "image/png": "[encoded data removed]",
            "text/plain": [
              "<Figure size 432x288 with 2 Axes>"
            ]
          },
          "metadata": {
            "needs_background": "light",
            "tags": []
          },
          "output_type": "display_data"
        },
        {
          "name": "stdout",
          "output_type": "stream",
          "text": [
            "\n",
            "==========\n",
            "\n",
            "\n",
            "both MLP 0.2\n"
          ]
        },
        {
          "data": {
            "image/png": "[encoded data removed]",
            "text/plain": [
              "<Figure size 432x288 with 2 Axes>"
            ]
          },
          "metadata": {
            "needs_background": "light",
            "tags": []
          },
          "output_type": "display_data"
        },
        {
          "name": "stdout",
          "output_type": "stream",
          "text": [
            "\n",
            "==========\n",
            "\n",
            "\n",
            "both RandomForest 0.11\n"
          ]
        },
        {
          "data": {
            "image/png": "[encoded data removed]",
            "text/plain": [
              "<Figure size 432x288 with 2 Axes>"
            ]
          },
          "metadata": {
            "needs_background": "light",
            "tags": []
          },
          "output_type": "display_data"
        },
        {
          "name": "stdout",
          "output_type": "stream",
          "text": [
            "\n",
            "==========\n",
            "\n",
            "\n",
            "both SGD 0.23\n"
          ]
        },
        {
          "data": {
            "image/png": "[encoded data removed]",
            "text/plain": [
              "<Figure size 432x288 with 2 Axes>"
            ]
          },
          "metadata": {
            "needs_background": "light",
            "tags": []
          },
          "output_type": "display_data"
        },
        {
          "name": "stdout",
          "output_type": "stream",
          "text": [
            "\n",
            "==========\n",
            "\n",
            "\n"
          ]
        }
      ],
      "source": [
        "import matplotlib.pyplot as plt\n",
        "from sklearn.metrics import plot_confusion_matrix    \n",
        "\n",
        "performance_all = []\n",
        "y_pred_all = []\n",
        "\n",
        "for data_type in data_types:\n",
        "  print(data_type)\n",
        "  url = f'https://github.com/danielmlow/vfp/raw/master/data/input/features/egemaps_vector_{data_type}.csv?raw=true' #'copied raw github button'\n",
        "  df = pd.read_csv(url,  sep=',', encoding='latin1', index_col = 0) #all data\n",
        "  \n",
        "  # train and test sets\n",
        "  df_train = df[df.sid.isin(recordingA_wo_24_patients)] #without 24 patients with different recording\n",
        "  df_train = df_train[df_train.sid.isin(combined)] #now training set is unbalanced, so keep only matched controls to remaining UVFP patients.\n",
        "  X_train = df_train[x_indices].values\n",
        "  y_train = df_train['target'].values\n",
        "\n",
        "\n",
        "  df_test = df[df.sid.isin(recordingB_24_patients)] #only 24 UVFP patients with different recording\n",
        "  X_test = df_test[x_indices].values \n",
        "  y_test = df_test['target'].values\n",
        "  \n",
        "  # Train final model      \n",
        "  performance = pd.DataFrame(np.zeros(len(classifier_names)), index = classifier_names).T\n",
        "\n",
        "  for classifier, name in zip(classifiers, classifier_names):\n",
        "    pipe = Pipeline(steps=[\n",
        "        ('scaler', StandardScaler()), \n",
        "        ('model', classifier)\n",
        "    ])\n",
        "    pipe.fit(X_train,y_train)\n",
        "    \n",
        "    # Test     \n",
        "    y_pred = pipe.predict(X_test)\n",
        "    cm = confusion_matrix(y_test,y_pred)\n",
        "    false_negitives = cm[1,0]\n",
        "    positives = np.sum(y_test)\n",
        "    fnr = np.round(false_negitives/positives,2) #false negative rate\n",
        "    performance[name] = fnr\n",
        "\n",
        "    print(data_type, name, fnr)\n",
        "    disp = plot_confusion_matrix(pipe, X_test, y_test,\n",
        "                                    display_labels=['Controls', 'UVFP'],\n",
        "                                    cmap=plt.cm.Blues,\n",
        "                                    normalize='true')\n",
        "  \n",
        "    plt.show()\n",
        "    print('\\n==========\\n\\n')\n",
        "\n",
        "\n",
        "\n",
        "\n",
        "  \n",
        "  performance_all.append(performance)\n",
        "  y_pred_all.append(y_pred)\n",
        "\n",
        "performance_all = pd.concat(performance_all)\n",
        "\n",
        "\n"
      ]
    },
    {
      "cell_type": "code",
      "execution_count": 125,
      "metadata": {
        "colab": {
          "base_uri": "https://localhost:8080/",
          "height": 16
        },
        "id": "q09nkWpA8Zmd",
        "outputId": "b9c347c9-7af9-4669-d8b6-728badaf76cd"
      },
      "outputs": [
        {
          "data": {
            "application/javascript": "\n    async function download(id, filename, size) {\n      if (!google.colab.kernel.accessAllowed) {\n        return;\n      }\n      const div = document.createElement('div');\n      const label = document.createElement('label');\n      label.textContent = `Downloading \"${filename}\": `;\n      div.appendChild(label);\n      const progress = document.createElement('progress');\n      progress.max = size;\n      div.appendChild(progress);\n      document.body.appendChild(div);\n\n      const buffers = [];\n      let downloaded = 0;\n\n      const channel = await google.colab.kernel.comms.open(id);\n      // Send a message to notify the kernel that we're ready.\n      channel.send({})\n\n      for await (const message of channel.messages) {\n        // Send a message to notify the kernel that we're ready.\n        channel.send({})\n        if (message.buffers) {\n          for (const buffer of message.buffers) {\n            buffers.push(buffer);\n            downloaded += buffer.byteLength;\n            progress.value = downloaded;\n          }\n        }\n      }\n      const blob = new Blob(buffers, {type: 'application/binary'});\n      const a = document.createElement('a');\n      a.href = window.URL.createObjectURL(blob);\n      a.download = filename;\n      div.appendChild(a);\n      a.click();\n      div.remove();\n    }\n  ",
            "text/plain": [
              "<IPython.core.display.Javascript object>"
            ]
          },
          "metadata": {
            "tags": []
          },
          "output_type": "display_data"
        },
        {
          "data": {
            "application/javascript": "download(\"download_91557245-3446-49c4-933d-385ad152584a\", \"fnr_wo_24_patients.csv\", 127)",
            "text/plain": [
              "<IPython.core.display.Javascript object>"
            ]
          },
          "metadata": {
            "tags": []
          },
          "output_type": "display_data"
        }
      ],
      "source": [
        "performance_all.index = ['Reading','Vowel','Reading+Vowel']\n",
        "\n",
        "\n",
        "from google.colab import files\n",
        "\n",
        "performance_all.to_csv('fnr_wo_24_patients.csv')\n",
        "files.download('fnr_wo_24_patients.csv')\n",
        "\n"
      ]
    },
    {
      "cell_type": "code",
      "execution_count": null,
      "metadata": {
        "id": "N2S_f3tUyGmN"
      },
      "outputs": [],
      "source": []
    }
  ],
  "metadata": {
    "colab": {
      "name": "test_different_recording.ipynb",
      "provenance": []
    },
    "kernelspec": {
      "display_name": "Python 3",
      "name": "python3"
    },
    "language_info": {
      "name": "python"
    }
  },
  "nbformat": 4,
  "nbformat_minor": 0
}
