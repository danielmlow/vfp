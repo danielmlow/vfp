{
 "cells": [
  {
   "cell_type": "code",
   "execution_count": null,
   "metadata": {
    "id": "q8EwY7gEoPMs"
   },
   "outputs": [],
   "source": [
    "# !pip install -q rpy2==3.5.1\n",
    "!pip install -q --upgrade rpy2"
   ]
  },
  {
   "cell_type": "code",
   "execution_count": null,
   "metadata": {
    "id": "keM4Tl0snnip"
   },
   "outputs": [],
   "source": [
    "%load_ext rpy2.ipython"
   ]
  },
  {
   "cell_type": "code",
   "execution_count": null,
   "metadata": {
    "colab": {
     "base_uri": "https://localhost:8080/"
    },
    "id": "FJgHEXnlLyun",
    "outputId": "63f0fa5e-806d-451e-9383-cbddc20c896a"
   },
   "outputs": [],
   "source": [
    "'''\n",
    "Authors: Daniel M. Low\n",
    "License: See license in github repository\n",
    "'''\n",
    "\n",
    "import os\n",
    "import pandas as pd\n",
    "import numpy as np\n",
    "import seaborn as sns\n",
    "import matplotlib.pyplot as plt\n",
    "from datetime import datetime\n",
    "from sklearn.metrics import roc_auc_score, confusion_matrix, classification_report\n",
    "import matplotlib.pyplot as plt\n",
    "import seaborn as sns\n",
    "from sklearn.metrics import recall_score\n",
    "import os\n",
    "\n",
    "\n",
    "\n",
    "project_name = 'vfp'\n",
    "filenames = ['annotations_ps_22-05-29T23-42-51.csv',\n",
    "             'annotations_cjs_22-10-19T17-48-21.csv', \n",
    "             'annotations_ch_22-10-16T01-03-17.csv']\n",
    "# pd.options.display.width = 0\n",
    "pd.set_option(\"display.max_columns\", None)\n",
    "on_colab = False\n",
    "if on_colab:\n",
    "  from google.colab import drive\n",
    "  drive.mount('/content/drive')\n",
    "  input_dir = f'/content/drive/MyDrive/datum/{project_name}/data/output/annotations/'\n",
    "  output_dir = f'/content/drive/MyDrive/datum/{project_name}/data/output/annotations/'\n",
    "else:\n",
    "  input_dir = './data/input/annotations/'\n",
    "  output_dir = './data/output/annotations/'\n",
    "\n",
    "\n"
   ]
  },
  {
   "cell_type": "markdown",
   "metadata": {
    "id": "uH0bMbBkpZLo"
   },
   "source": [
    "# Observe responses, fix formatting, identify mislabelled samples"
   ]
  },
  {
   "cell_type": "code",
   "execution_count": null,
   "metadata": {
    "colab": {
     "base_uri": "https://localhost:8080/"
    },
    "id": "eWYMgjQ0q_by",
    "outputId": "bfecfb5c-14af-4b3a-aac2-86eb70c09952"
   },
   "outputs": [],
   "source": [
    "variables = pd.read_csv(input_dir + 'annotations_ch_22-10-16T01-03-17.csv', index_col = 0).columns.tolist()\n",
    "variables.remove('file')\n",
    "variables"
   ]
  },
  {
   "cell_type": "code",
   "execution_count": null,
   "metadata": {
    "colab": {
     "base_uri": "https://localhost:8080/",
     "height": 1000
    },
    "id": "S8Oo8BntrUG6",
    "outputId": "c573c105-4305-4273-d9c6-4baeeab9c2b5"
   },
   "outputs": [],
   "source": [
    "for variable in variables:\n",
    "  print(f'\\n\\n===={variable}====')\n",
    "  \n",
    "  counts_all = []\n",
    "  for filename in filenames:\n",
    "    annotator = filename.split('_')[1]\n",
    "    df = pd.read_csv(input_dir + filename, index_col = 0)\n",
    "    values = np.sort(df[variable].unique().tolist())\n",
    "    print(annotator, ':', values)\n",
    "    counts_i = pd.DataFrame(df[variable].value_counts())\n",
    "    \n",
    "    counts_i.columns = [variable+'_'+annotator]\n",
    "    counts_i.index = [str(n) for n in counts_i.index]\n",
    "    counts_all.append(counts_i)\n",
    "    print()\n",
    "\n",
    "  counts_all2 = pd.concat(counts_all,axis=1,ignore_index=False)\n",
    "  display(counts_all2)"
   ]
  },
  {
   "cell_type": "markdown",
   "metadata": {
    "id": "L20qB6Q1ykt1"
   },
   "source": [
    "PS asked made the following typos\n",
    "\n",
    "\n",
    "134: VFP = 1, NaN for all other values (or he would need to redo)\n",
    "\n",
    "\n",
    "77: loudness (recording)\n"
   ]
  },
  {
   "cell_type": "code",
   "execution_count": null,
   "metadata": {
    "colab": {
     "base_uri": "https://localhost:8080/"
    },
    "id": "rNYMKd1Pz-Tl",
    "outputId": "21ef90f0-715f-475d-cc5f-5a1956018b3a"
   },
   "outputs": [],
   "source": [
    "print(df.loc[134].values)\n",
    "print([df.loc[134].values[0]] + ([np.nan]*(len(df.loc[134].values)-1)))\n",
    "df.loc[134] = [df.loc[134].values[0]] + ([np.nan]*(len(df.loc[134].values)-1))\n",
    "df.loc[134, 'vfp'] = 1\n",
    "df.loc[134, 'noise'] = 2 #same as before\n",
    "print(df.loc[134].values)"
   ]
  },
  {
   "cell_type": "code",
   "execution_count": null,
   "metadata": {
    "colab": {
     "base_uri": "https://localhost:8080/"
    },
    "id": "NBxhDpimmemT",
    "outputId": "afa2403b-7dac-4737-d29f-b05a2ec1ed55"
   },
   "outputs": [],
   "source": [
    "dfs = {}\n",
    "\n",
    "\n",
    "for filename in filenames:\n",
    "  annotator = filename.split('_')[1]\n",
    "  print('===', filename)\n",
    "  df = pd.read_csv(input_dir + filename, index_col = 0)\n",
    "  df['noise'] = df['noise'].replace('o', 0).replace('99', np.nan).replace('99.0', np.nan).replace(99, np.nan)\n",
    "  df['vfp'] = df['vfp'].replace(2, 1)\n",
    "  df['loudness (recording)'] = df['loudness (recording)'].replace(20, np.nan).replace(10, np.nan).replace(0, np.nan)\n",
    "  df['strain'] = df['strain'].replace('220', '20').replace(\"22\\\\5\", '25')\n",
    "  variables = df.columns\n",
    "  for variable in variables:\n",
    "    try: df[variable] =df[variable].astype(float) \n",
    "    except: \n",
    "      df[variable] =df[variable].astype(object) #for string columns\n",
    "\n",
    "  if annotator == 'ps':\n",
    "    # typos asked to be corrected\n",
    "    assert df.loc[134, 'vfp'] == 0\n",
    "    df.loc[134] = [df.loc[134].values[0]] + ([np.nan]*(len(df.loc[134].values)-1)) # setting NaN to other values which would need to be corrected\n",
    "    df.loc[134, 'vfp'] = 1\n",
    "    df.loc[134, 'noise'] = 2 #same as before\n",
    "    print(df.loc[134].values)\n",
    "    \n",
    "    print(\"df.loc[77, 'loudness (recording)']\", df.loc[77, 'loudness (recording)'])\n",
    "    df.loc[77, 'loudness (recording)'] = 3\n",
    "\n",
    "\n",
    "  \n",
    "  y_true = [0 if 'Norm' in n else 1 for n in df.file.values ]\n",
    "  df['y_true'] = y_true\n",
    "  \n",
    "  dfs[annotator] = df.sort_values('file').reset_index(drop = True)\n",
    "\n",
    "\n",
    "  \n"
   ]
  },
  {
   "cell_type": "markdown",
   "metadata": {
    "id": "g_-z4jr2WGu4"
   },
   "source": [
    "# Plot performance split by annotator"
   ]
  },
  {
   "cell_type": "code",
   "execution_count": null,
   "metadata": {
    "id": "SwnU6JqHRYaj"
   },
   "outputs": [],
   "source": [
    "\n",
    "  plt.rcParams[\"figure.figsize\"] = (12,8)\n",
    "  plt.rcParams.update({'font.size': 18})"
   ]
  },
  {
   "cell_type": "code",
   "execution_count": null,
   "metadata": {
    "id": "jmlrZ3rL5MQw"
   },
   "outputs": [],
   "source": [
    "run_this = False\n",
    "\n",
    "if run_this:\n",
    "  plt.rcParams[\"figure.figsize\"] = (12,8)\n",
    "  plt.rcParams.update({'font.size': 18})\n",
    "\n",
    "\n",
    "  for variable in df.columns:\n",
    "    if variable in ['file', 'y_true']:\n",
    "        continue\n",
    "    for i, (annotator, df) in enumerate(dfs.items()):\n",
    "      if annotator == 'ps':\n",
    "        annotator = 'Annotator 1'\n",
    "      elif annotator == 'cjs':\n",
    "        annotator = 'Annotator 2'\n",
    "      elif annotator == 'ch':\n",
    "        annotator = 'Annotator 3'\n",
    "      \n",
    "      \n",
    "      \n",
    "\n",
    "      \n",
    "      if variable in ['noise', 'vfp', 'loudness (recording)']:\n",
    "        plt.subplot(1, 3, i+1)\n",
    "        # df.groupby('y_true')[variable].value_counts().unstack(0).plot.bar()\n",
    "        # plt.title(f'{annotator}', size = 20)  \n",
    "        # plt.xticks(rotation = 0)\n",
    "        # plt.legend()\n",
    "        bar_plot_df = df.groupby('y_true')[variable].value_counts().unstack(0)\n",
    "        x_ticks = bar_plot_df.index.values\n",
    "        control_values = bar_plot_df[0].values\n",
    "        vfp_values = bar_plot_df[1].values\n",
    "        \n",
    "        width = 0.35\n",
    "        rects1 = plt.bar(x_ticks - width/2, control_values, width, label='Controls')\n",
    "        rects2 = plt.bar(x_ticks + width/2, vfp_values, width, label='VFP')\n",
    "        plt.title(f'{annotator}', size = 20)  \n",
    "        if i+1==1:\n",
    "          plt.ylabel('Count')\n",
    "        if i+1==2:\n",
    "          plt.xlabel(variable.capitalize())\n",
    "        if i+1==3:\n",
    "          plt.legend()\n",
    "        plt.ylim(0,76)\n",
    "          \n",
    "        \n",
    "\n",
    "      else:\n",
    "        # variables that range from 0 to 100\n",
    "        plt.subplot(1, 3, i+1)\n",
    "        x0 = df[df['y_true']==0][variable].values\n",
    "        x1 = df[df['y_true']==1][variable].values\n",
    "        alpha = 0.7\n",
    "        plt.hist(x0, bins=10, alpha=alpha, label = 'Controls')\n",
    "        plt.hist(x1, bins=10, alpha=alpha, label = 'VFP')\n",
    "        # plt.legend()\n",
    "        plt.title(f'{annotator}', size = 20)  \n",
    "        if i+1==1:\n",
    "          plt.ylabel('Count')\n",
    "        if i+1==2:\n",
    "          plt.xlabel(variable.capitalize())\n",
    "        if i+1==3:\n",
    "          plt.legend()\n",
    "        plt.ylim(0,76)\n",
    "\n",
    "          \n",
    "    plt.show()\n",
    "    \n",
    "    \n",
    "\n",
    "\n"
   ]
  },
  {
   "cell_type": "code",
   "execution_count": null,
   "metadata": {
    "colab": {
     "base_uri": "https://localhost:8080/",
     "height": 487
    },
    "id": "UPXN5RgQREI6",
    "outputId": "7fcc6089-f417-4372-c3e8-387c288f0937"
   },
   "outputs": [],
   "source": [
    "min_and_max = True\n",
    "plt.rcParams[\"figure.figsize\"] = (6,12)\n",
    "plt.rcParams.update({'font.size': 16})\n",
    "plt.style.use('default')\n",
    "\n",
    "for i, variable in enumerate(['vfp', 'noise','loudness (recording)']):\n",
    "  plt.subplot(1, 3, i+1)\n",
    "  if variable in ['file', 'y_true']:\n",
    "        continue\n",
    "\n",
    "\n",
    "\n",
    "  control_values_all = []\n",
    "  vfp_values_all = []\n",
    "  for j, (annotator, df) in enumerate(dfs.items()):\n",
    "   \n",
    "    \n",
    "\n",
    "    if variable in ['noise', 'vfp', 'loudness (recording)']:\n",
    "      \n",
    "    \n",
    "      bar_plot_df = df.groupby('y_true')[variable].value_counts().unstack(0)\n",
    "      x_ticks = bar_plot_df.index.values\n",
    "      control_values = bar_plot_df[0].values\n",
    "      vfp_values = bar_plot_df[1].values\n",
    "      control_values_all.append(control_values)\n",
    "      vfp_values_all.append(vfp_values)\n",
    "\n",
    "  control_values_avg = np.mean(control_values_all,axis=0)\n",
    "  vfp_values_avg = np.mean(vfp_values_all,axis=0)\n",
    "\n",
    "  width = 0.35\n",
    "  \n",
    "\n",
    "  rects1 = plt.bar(x_ticks - width/2, control_values_avg, width, label='Controls', alpha = 1, color = 'sandybrown')\n",
    "  \n",
    "  if min_and_max:\n",
    "    lower_error =  control_values_avg - np.min(np.array(control_values_all),axis=0)\n",
    "    upper_error =  np.max(np.array(control_values_all),axis=0) - control_values_avg \n",
    "    asymmetric_error = np.array(list(zip(lower_error, upper_error))).T\n",
    "    plt.errorbar(x_ticks - width/2, control_values_avg, yerr=asymmetric_error,\n",
    "                ecolor = 'gray',linestyle='',)\n",
    "  else:\n",
    "    plt.errorbar(x_ticks - width/2, control_values_avg, yerr=np.std(control_values_all,axis=0),\n",
    "                ecolor = 'gray',linestyle='',)\n",
    "  \n",
    "  \n",
    "  \n",
    "  \n",
    "  rects2 = plt.bar(x_ticks + width/2, vfp_values_avg, width, label='VFP', alpha = 1, color = 'lightskyblue')\n",
    "  if min_and_max:\n",
    "    lower_error =  vfp_values_avg - np.min(np.array(vfp_values_all),axis=0)\n",
    "    upper_error =  np.max(np.array(vfp_values_all),axis=0) - vfp_values_avg \n",
    "    asymmetric_error = np.array(list(zip(lower_error, upper_error))).T\n",
    "    plt.errorbar(x_ticks + width/2,vfp_values_avg, yerr=asymmetric_error,\n",
    "                ecolor = 'gray',\n",
    "                 linestyle='',\n",
    "                 )\n",
    "    \n",
    "  else:\n",
    "    plt.errorbar(x_ticks + width/2, vfp_values_avg, yerr=np.std(vfp_values_all,axis=0),  \n",
    "                 linestyle='',\n",
    "                 ecolor = 'gray')\n",
    "  \n",
    "  \n",
    "  plt.ylim(0,80)\n",
    "\n",
    "  if variable == 'noise':        \n",
    "    plt.xticks(ticks = x_ticks, labels = ['None',\"Some\",\"High\"])\n",
    "    plt.xlabel('Background noise')\n",
    "\n",
    "  if variable == 'vfp':        \n",
    "    plt.xticks(ticks = x_ticks, labels = ['Controls', 'UVFP'])\n",
    "    plt.xlabel('Diagnosis')\n",
    "\n",
    "  if variable == 'loudness (recording)':        \n",
    "    plt.xticks(ticks = x_ticks, labels = ['Low', 'Medium', 'High'])\n",
    "    plt.xlabel('Recording loudness')\n",
    "\n",
    "  if i == 1:\n",
    "    plt.legend()\n",
    "  if i in [1,2]:\n",
    "    plt.yticks([], [])\n",
    "  if i ==0:\n",
    "    plt.ylabel('Count')\n",
    "\n",
    "plt.tight_layout()\n",
    "plt.savefig(output_dir+'/../annotations_figures/'+f'ordinal_aggregated.png', dpi=300)\n",
    "plt.show()\n",
    "\n",
    "\n",
    "\n",
    "\n"
   ]
  },
  {
   "cell_type": "code",
   "execution_count": null,
   "metadata": {
    "colab": {
     "base_uri": "https://localhost:8080/",
     "height": 540
    },
    "id": "ZeiB2kSpinAJ",
    "outputId": "c5729e6d-3379-4226-ae6a-b99413618f46"
   },
   "outputs": [],
   "source": [
    "df1 = dfs.get('ps')\n",
    "df2 = dfs.get('cjs')\n",
    "df3 = dfs.get('ch')\n",
    "print(df1.shape,df2.shape,df3.shape,)\n",
    "df_all = df1.merge(df2, on=['file','y_true'], how='inner', suffixes=('_1', '_2')).merge(df3, on=['file','y_true'], how='inner', suffixes=('', '_3'))\n",
    "df_all.columns = [n+'_3' if '_' not in n else n for n in df_all.columns]\n",
    "df_all"
   ]
  },
  {
   "cell_type": "code",
   "execution_count": null,
   "metadata": {
    "colab": {
     "base_uri": "https://localhost:8080/",
     "height": 747
    },
    "id": "1qLFIiicini_",
    "outputId": "0c40795b-145f-49dc-8bc6-3bd88e4f009e"
   },
   "outputs": [],
   "source": [
    "df_longform = []\n",
    "for i in [1,2,3]:\n",
    "  df_annotator_i = df_all[['y_true',f'noise_{i}',f'vfp_{i}', f'severity_{i}', f'roughness_{i}',\tf'breathiness_{i}',\tf'strain_{i}',\tf'pitch_{i}', f'loudness (in person)_{i}', f'loudness (recording)_{i}']]\n",
    "  df_annotator_i.columns = ['Diagnosis','Noise', 'UVFP Rating', 'Severity', 'Roughness', 'Breathiness', 'Strain', 'Pitch', 'Loudness', 'Loudness recording']\n",
    "\n",
    "  df_annotator_i['Annotator'] = [f'Annotator {i}']*df_annotator_i.shape[0]\n",
    "  df_longform.append(df_annotator_i)\n",
    "df_longform = pd.concat(df_longform,axis=0).reset_index(drop = True)\n",
    "df_longform\n",
    "\n"
   ]
  },
  {
   "cell_type": "code",
   "execution_count": null,
   "metadata": {
    "id": "1UBmK6Z36cEf"
   },
   "outputs": [],
   "source": [
    "df_small = df_longform[['Diagnosis','Severity', 'Roughness',\n",
    "       'Breathiness', 'Strain', 'Pitch', 'Loudness',]]"
   ]
  },
  {
   "cell_type": "code",
   "execution_count": null,
   "metadata": {
    "colab": {
     "base_uri": "https://localhost:8080/",
     "height": 134
    },
    "id": "UHx2iZ7LM4OX",
    "outputId": "a5c1c6c6-eb70-405b-d19f-473de8b6d88f"
   },
   "outputs": [],
   "source": [
    "fig, axes = plt.subplots(2, 3, figsize=(18, 10))\n",
    "\n",
    "for row in [0,1]:\n",
    "  for col in [0,1,2]:\n",
    "    variables = np.array([['Severity', 'Roughness', 'Breathiness'],\n",
    "               ['Strain', 'Pitch', 'Loudness']])\n",
    "               \n",
    "    sns.kdeplot(ax=axes[row, col], data = df_small,x = variables[row, col], hue='Diagnosis', fill = True, legend= False)\n",
    "    if row == 1 and col == 3:\n",
    "      plt.legend()\n",
    "    \n",
    "\n",
    "plt.show()"
   ]
  },
  {
   "cell_type": "code",
   "execution_count": null,
   "metadata": {
    "colab": {
     "base_uri": "https://localhost:8080/",
     "height": 1000
    },
    "id": "CMFr0RcelqHC",
    "outputId": "8b3f92d8-bb24-4f45-dc04-f8826299b63e"
   },
   "outputs": [],
   "source": [
    "run_this = True\n",
    "if run_this:\n",
    "  sns.pairplot(df_small, hue=\"Diagnosis\", \n",
    "              kind='scatter',\n",
    "              diag_kind = \"kde\",\n",
    "              corner=True,\n",
    "              #  markers=[\"o\", \"s\", \"D\"],\n",
    "              plot_kws=dict(s=30, \n",
    "              #               #  edgecolor=\"white\", \n",
    "                            #  linewidth=2.5, \n",
    "                            alpha=0.7)\n",
    "              )\n",
    "\n",
    "\n",
    "  # plt.savefig(output_dir+\"pairplot_diagnosis.png\", dpi=300)              \n",
    "  plt.show()             "
   ]
  },
  {
   "cell_type": "code",
   "execution_count": null,
   "metadata": {
    "id": "OhIQhMYc88dC"
   },
   "outputs": [],
   "source": [
    "from scipy import stats\n",
    "def corrfunc(x, y, **kws):\n",
    "    rho, _ = stats.pearsonr(x, y)\n",
    "    ax = plt.gca()\n",
    "    ax.annotate(\"r={:.2f}\".format(rho),\n",
    "                xy=(.1, .9), xycoords=ax.transAxes)\n"
   ]
  },
  {
   "cell_type": "code",
   "execution_count": null,
   "metadata": {
    "id": "pB4QthsU9ze_"
   },
   "outputs": [],
   "source": [
    "df_small = df_longform[['Annotator','Diagnosis','Severity', 'Roughness',\n",
    "       'Breathiness', 'Strain', 'Pitch', 'Loudness',]].dropna(axis=0)"
   ]
  },
  {
   "cell_type": "code",
   "execution_count": null,
   "metadata": {
    "id": "ob6RtM9RERQh"
   },
   "outputs": [],
   "source": [
    "def corrdot(*args, **kwargs):\n",
    "    corr_r = args[0].corr(args[1], 'spearman')\n",
    "    corr_text = f\"{corr_r:2.2f}\".replace(\"0.\", \".\")\n",
    "    ax = plt.gca()\n",
    "    ax.set_axis_off()    \n",
    "    marker_size = abs(corr_r) * 10000\n",
    "    \n",
    "    ax.scatter([.5], [.5], marker_size, [corr_r], alpha=0.6, cmap=\"coolwarm\",\n",
    "               vmin=-1, vmax=1, transform=ax.transAxes)\n",
    "    font_size = 40 #abs(corr_r) * 40 + 5\n",
    "    ax.annotate(corr_text, [.5, .5,],  xycoords=\"axes fraction\",\n",
    "                ha='center', va='center', fontsize=font_size)\n",
    "    \n",
    "\n"
   ]
  },
  {
   "cell_type": "code",
   "execution_count": null,
   "metadata": {
    "colab": {
     "base_uri": "https://localhost:8080/",
     "height": 1000
    },
    "id": "EVWinkzBEVfZ",
    "outputId": "ba99fd36-c3c0-4212-d4d3-6df22713d434"
   },
   "outputs": [],
   "source": [
    "run_toy = True\n",
    "# Pairwise correlation plot\n",
    "sns.set(style='white', font_scale=1.6)\n",
    "if run_toy:\n",
    "  g = sns.PairGrid(df_small.drop('Diagnosis',axis=1).sample(frac=0.1), aspect=1.4, diag_sharey=False)\n",
    "else:\n",
    "  g = sns.PairGrid(df_longform.drop('Diagnosis',axis=1), aspect=1.4, diag_sharey=False)\n",
    "g.map_lower(sns.regplot, lowess=True, ci=True, line_kws={'color': 'black'}, fit_reg=True,\n",
    "          x_jitter=.1, y_jitter=.1, \n",
    "            scatter_kws={\"s\": 1, \"alpha\":0.1}\n",
    "            )\n",
    "g.map_diag(sns.distplot, kde_kws={'color': 'black'})\n",
    "g.map_upper(corrdot)\n",
    "plt.show() "
   ]
  },
  {
   "cell_type": "code",
   "execution_count": null,
   "metadata": {
    "colab": {
     "base_uri": "https://localhost:8080/",
     "height": 1000
    },
    "id": "7AzDL1bmsQLR",
    "outputId": "85b2d649-1604-4df9-889b-3f987edadfe5"
   },
   "outputs": [],
   "source": [
    "sns.pairplot(df_longform, hue=\"Annotator\", \n",
    "             kind='scatter',\n",
    "             diag_kind = \"kde\",\n",
    "             corner=True,\n",
    "             markers=[\"o\", \"s\", \"D\"],\n",
    "             plot_kws=dict(s=30, \n",
    "            #               #  edgecolor=\"white\", \n",
    "                          #  linewidth=2.5, \n",
    "                           alpha=0.7)\n",
    "             )\n",
    "             \n",
    "\n",
    "plt.savefig(output_dir+\"pairplot_annotator.png\", dpi=300)              \n",
    "plt.show() "
   ]
  },
  {
   "cell_type": "markdown",
   "metadata": {
    "id": "ZWg0T6g4Qu9H"
   },
   "source": [
    "# Plots grouping annotators"
   ]
  },
  {
   "cell_type": "code",
   "execution_count": null,
   "metadata": {
    "id": "vqHuZl6nQtgD"
   },
   "outputs": [],
   "source": [
    "run_this = False\n",
    "\n",
    "if run_this:\n",
    "  plt.rcParams[\"figure.figsize\"] = (12,8)\n",
    "  plt.rcParams.update({'font.size': 18})\n",
    "\n",
    "\n",
    "  for variable in df.columns:\n",
    "    if variable in ['file', 'y_true']:\n",
    "        continue\n",
    "    for i, (annotator, df) in enumerate(dfs.items()):\n",
    "      if annotator == 'ps':\n",
    "        annotator = 'Annotator 1'\n",
    "      elif annotator == 'cjs':\n",
    "        annotator = 'Annotator 2'\n",
    "      elif annotator == 'ch':\n",
    "        annotator = 'Annotator 3'\n",
    "      \n",
    "      \n",
    "      \n",
    "\n",
    "      \n",
    "      if variable in ['noise', 'vfp', 'loudness (recording)']:\n",
    "        plt.subplot(1, 3, i+1)\n",
    "        bar_plot_df = df.groupby('y_true')[variable].value_counts().unstack(0)\n",
    "        x_ticks = bar_plot_df.index.values\n",
    "        control_values = bar_plot_df[0].values\n",
    "        vfp_values = bar_plot_df[1].values\n",
    "        \n",
    "        width = 0.35\n",
    "        rects1 = plt.bar(x_ticks - width/2, control_values, width, label='Controls')\n",
    "        rects2 = plt.bar(x_ticks + width/2, vfp_values, width, label='VFP')\n",
    "        plt.title(f'{annotator}', size = 20)  \n",
    "        if i+1==1:\n",
    "          plt.ylabel('Count')\n",
    "        if i+1==2:\n",
    "          plt.xlabel(variable.capitalize())\n",
    "        if i+1==3:\n",
    "          plt.legend()\n",
    "        plt.ylim(0,76)\n",
    "          \n",
    "        \n",
    "\n",
    "      else:\n",
    "        plt.subplot(1, 3, i+1)\n",
    "        x0 = df[df['y_true']==0][variable].values\n",
    "        x1 = df[df['y_true']==1][variable].values\n",
    "        alpha = 0.7\n",
    "        plt.hist(x0, bins=10, alpha=alpha, label = 'Controls')\n",
    "        plt.hist(x1, bins=10, alpha=alpha, label = 'VFP')\n",
    "        # plt.legend()\n",
    "        plt.title(f'{annotator}', size = 20)  \n",
    "        if i+1==1:\n",
    "          plt.ylabel('Count')\n",
    "        if i+1==2:\n",
    "          plt.xlabel(variable.capitalize())\n",
    "        if i+1==3:\n",
    "          plt.legend()\n",
    "        plt.ylim(0,76)\n",
    "\n",
    "\n",
    "    plt.show()\n",
    "    \n",
    "    \n",
    "\n",
    "\n"
   ]
  },
  {
   "cell_type": "code",
   "execution_count": null,
   "metadata": {
    "id": "d6bzmlijrDuf"
   },
   "outputs": [],
   "source": [
    "# Import pandas\n",
    "import pandas as pd\n",
    "# Import rpy2 for dataframe conversion\n",
    "import rpy2.robjects as ro\n",
    "from rpy2.robjects.packages import importr\n",
    "from rpy2.robjects import pandas2ri\n",
    "from rpy2.robjects.conversion import localconverter\n",
    "from rpy2.robjects import globalenv\n",
    "\n",
    "def python_to_r(df, df_name = 'df'):\n",
    "  # Convert the python dataframe to the R dataframe\n",
    "  with localconverter(ro.default_converter + pandas2ri.converter):\n",
    "    dfr = ro.conversion.py2rpy(df)\n",
    "  # Create a variable name in R's global environment\n",
    "  globalenv[df_name] = dfr\n",
    "  return\n",
    "\n",
    "def r_to_python(df):\n",
    "  # Convert R Dataframe to python dataframe\n",
    "  with localconverter(ro.default_converter + pandas2ri.converter):\n",
    "    dfpd = ro.conversion.rpy2py(df)\n",
    "  return"
   ]
  },
  {
   "cell_type": "code",
   "execution_count": null,
   "metadata": {
    "colab": {
     "base_uri": "https://localhost:8080/"
    },
    "id": "AdptnMeOonUH",
    "outputId": "5522c82d-2bf6-41ff-a6d8-f2286ade6285"
   },
   "outputs": [],
   "source": [
    "%%R\n",
    "install.packages(\"irr\")\n",
    "library(\"irr\")"
   ]
  },
  {
   "cell_type": "code",
   "execution_count": null,
   "metadata": {
    "colab": {
     "base_uri": "https://localhost:8080/"
    },
    "id": "PbcEKMWxOWjM",
    "outputId": "e197d4d1-7aae-479b-8468-200dd2ae6384"
   },
   "outputs": [],
   "source": [
    "\n",
    "for variable in df1.columns:\n",
    "  if variable in ['file', 'y_true']:\n",
    "      continue\n",
    "  df_var = df_all[[variable+'_1',variable+'_2',variable+'_3']]\n",
    "  df_var = df_var.dropna(axis=0)\n",
    "  python_to_r(df_var, 'df_var')\n",
    "  print(variable, '='*30)\n",
    "  if variable == 'vfp':    \n",
    "    %R print(kappam.light(df_var))\n",
    "    %R print(icc(df_var))\n",
    "  else:\n",
    "    %R print(icc(df_var))\n",
    "  print()\n",
    "  "
   ]
  },
  {
   "cell_type": "code",
   "execution_count": null,
   "metadata": {
    "colab": {
     "base_uri": "https://localhost:8080/"
    },
    "id": "7u9sHMJPjhXf",
    "outputId": "6f06bec4-1967-460b-8198-7a576060fab2"
   },
   "outputs": [],
   "source": [
    "dropped_nans = {}\n",
    "for variable in df.columns:\n",
    "  if variable in ['file', 'y_true']:\n",
    "      continue\n",
    "  df_var = df_all[[variable+'_1',variable+'_2',variable+'_3']]\n",
    "  rows_original = df_var.shape[0]\n",
    "  df_var = df_var.dropna(axis=0)\n",
    "  rows_after_removing_nan = df_var.shape[0]\n",
    "  dropped_rows = rows_original-rows_after_removing_nan\n",
    "  dropped_nans[variable] = dropped_rows\n",
    "  python_to_r(df_var, 'df_var')\n",
    "  print(variable, '='*30)\n",
    "  if variable == 'vfp':    \n",
    "    %R print(kappam.light(df_var))\n",
    "  else:\n",
    "    %R print(icc(df_var))\n",
    "  print()\n",
    "  "
   ]
  },
  {
   "cell_type": "markdown",
   "metadata": {
    "id": "UzPt3bFrPRfR"
   },
   "source": [
    "0 (0%) to 6 (4%) of samples were dropped because one of the three raters did not respond. "
   ]
  },
  {
   "cell_type": "markdown",
   "metadata": {
    "id": "-tIUHTAHWPTB"
   },
   "source": [
    "# Performance metrics humans \n",
    "\n"
   ]
  },
  {
   "cell_type": "code",
   "execution_count": null,
   "metadata": {
    "colab": {
     "base_uri": "https://localhost:8080/",
     "height": 1000
    },
    "id": "7_s4nPVIWUHY",
    "outputId": "fb38e90d-95ff-41a6-9bd1-23d2c7dc3022"
   },
   "outputs": [],
   "source": [
    "plt.rcParams[\"figure.figsize\"] = (4,4)\n",
    "plt.rcParams.update({'font.size': 18})\n",
    "\n",
    "\n",
    "results = {}\n",
    "\n",
    "for i, (annotator, df) in enumerate(dfs.items()):\n",
    "    if annotator == 'ps':\n",
    "      annotator = 'Annotator 1'\n",
    "    elif annotator == 'cjs':\n",
    "      annotator = 'Annotator 2'\n",
    "    elif annotator == 'ch':\n",
    "      annotator = 'Annotator 3'\n",
    "\n",
    "    print('===', annotator)\n",
    "\n",
    "    y_pred = df.vfp.values\n",
    "    print(np.unique(y_pred))\n",
    "    y_pred[y_pred == 2] = 1\n",
    "    y_true = [0 if 'Norm' in n else 1 for n in df.file.values ]\n",
    "    df['y_true'] = y_true\n",
    "\n",
    "\n",
    "    roc_auc = roc_auc_score(y_true, y_pred)\n",
    "    cm = confusion_matrix(y_true, y_pred)\n",
    "    cm = pd.DataFrame(cm, index=['actual_UVFP-', 'actual_UVFP+'], columns=['annotated_UVFP-','annotated_UVFP+'  ])\n",
    "    \n",
    "    sns.heatmap(cm,annot=True)\n",
    "    plt.xticks(rotation=45)\n",
    "    plt.show()\n",
    "    cr = classification_report(y_true, y_pred)\n",
    "\n",
    "\n",
    "    sensitivity = recall_score(y_true, y_pred, pos_label=1)\n",
    "    specificity = recall_score(y_true, y_pred, pos_label=0)\n",
    "\n",
    "    print(cm)\n",
    "    print(cr)\n",
    "    metrics = [ roc_auc, sensitivity, specificity]\n",
    "    names = [ 'roc_auc', 'sensitivity', 'specificity']\n",
    "    for m, n in zip(metrics, names):\n",
    "      print(n, np.round(m,2))\n",
    "\n",
    "    results[annotator]=metrics\n"
   ]
  },
  {
   "cell_type": "code",
   "execution_count": null,
   "metadata": {
    "colab": {
     "base_uri": "https://localhost:8080/",
     "height": 175
    },
    "id": "lnbdlG8iYqMX",
    "outputId": "77153ca4-f881-4418-a32b-f03c16002d88"
   },
   "outputs": [],
   "source": [
    "results = pd.DataFrame(results, index = names).round(2)\n",
    "results['Avg.'] = results.mean(axis=1)\n",
    "results.T"
   ]
  },
  {
   "cell_type": "code",
   "execution_count": null,
   "metadata": {
    "colab": {
     "base_uri": "https://localhost:8080/"
    },
    "id": "hbwkho3pgr9o",
    "outputId": "737239db-179b-421f-fda5-3efb6bd6aa05"
   },
   "outputs": [],
   "source": [
    "print('controls having loudness (2 or 3 out of 3):', np.round(49/77*100,1),'%')\n",
    "print('UVFP having loudness (2 or 3 out of 3):', np.round(60/74*100,1),'%')\n",
    "\n",
    "print('controls having hi loudness (3 out of 3):', np.round(6/77*100, 1), '%')\n",
    "print('UVFP having hi loudness (3 out of 3):', np.round(44/74*100,1),'%')"
   ]
  },
  {
   "cell_type": "code",
   "execution_count": null,
   "metadata": {
    "colab": {
     "base_uri": "https://localhost:8080/"
    },
    "id": "q_tkreATSk71",
    "outputId": "d0e49993-79eb-4522-f991-1c1ecfbda27a"
   },
   "outputs": [],
   "source": [
    "\n",
    "print('controls having inferred loudness in person (2 or 3 out of 3):', np.round(49/77*100,1),'%')\n",
    "print('UVFP having loudness (2 or 3 out of 3):', np.round(60/74*100,1),'%')\n",
    "\n",
    "print('controls having hi loudness (3 out of 3):', np.round(6/77*100, 1), '%')\n",
    "print('UVFP having hi loudness (3 out of 3):', np.round(44/74*100,1),'%')"
   ]
  }
 ],
 "metadata": {
  "colab": {
   "collapsed_sections": [
    "xDqjaZ-RWNfu"
   ],
   "provenance": []
  },
  "kernelspec": {
   "display_name": "Python 3",
   "language": "python",
   "name": "python3"
  },
  "language_info": {
   "codemirror_mode": {
    "name": "ipython",
    "version": 3
   },
   "file_extension": ".py",
   "mimetype": "text/x-python",
   "name": "python",
   "nbconvert_exporter": "python",
   "pygments_lexer": "ipython3",
   "version": "3.7.7"
  }
 },
 "nbformat": 4,
 "nbformat_minor": 4
}
