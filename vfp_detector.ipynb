{
 "cells": [
  {
   "cell_type": "markdown",
   "id": "2b6fffff-5577-40e2-9bd7-b6f88dcc6b7d",
   "metadata": {},
   "source": [
    "# Final models trained on the entire dataset, with and without biased features"
   ]
  },
  {
   "cell_type": "code",
   "execution_count": 23,
   "id": "ffe31e54-576e-4c25-ab9d-33b7a76adc98",
   "metadata": {},
   "outputs": [],
   "source": [
    "import os \n",
    "import numpy as np\n",
    "import pandas as pd\n",
    "from sklearn.metrics import roc_auc_score\n",
    "from sklearn.preprocessing import StandardScaler\n",
    "from sklearn.ensemble import RandomForestClassifier\n",
    "from io import BytesIO\n",
    "import pickle\n",
    "import requests\n",
    "pd.set_option('display.max_columns', None)"
   ]
  },
  {
   "cell_type": "code",
   "execution_count": 58,
   "id": "bdab5dfe-b099-4cd2-92b9-1a22ff9f555f",
   "metadata": {},
   "outputs": [],
   "source": [
    "all_features = ['F0semitoneFrom27.5Hz_sma3nz_amean',\n",
    "       'F0semitoneFrom27.5Hz_sma3nz_stddevNorm',\n",
    "       'F0semitoneFrom27.5Hz_sma3nz_percentile20.0',\n",
    "       'F0semitoneFrom27.5Hz_sma3nz_percentile50.0',\n",
    "       'F0semitoneFrom27.5Hz_sma3nz_percentile80.0',\n",
    "       'F0semitoneFrom27.5Hz_sma3nz_pctlrange0-2',\n",
    "       'F0semitoneFrom27.5Hz_sma3nz_meanRisingSlope',\n",
    "       'F0semitoneFrom27.5Hz_sma3nz_stddevRisingSlope',\n",
    "       'F0semitoneFrom27.5Hz_sma3nz_meanFallingSlope',\n",
    "       'F0semitoneFrom27.5Hz_sma3nz_stddevFallingSlope', 'loudness_sma3_amean',\n",
    "       'loudness_sma3_stddevNorm', 'loudness_sma3_percentile20.0',\n",
    "       'loudness_sma3_percentile50.0', 'loudness_sma3_percentile80.0',\n",
    "       'loudness_sma3_pctlrange0-2', 'loudness_sma3_meanRisingSlope',\n",
    "       'loudness_sma3_stddevRisingSlope', 'loudness_sma3_meanFallingSlope',\n",
    "       'loudness_sma3_stddevFallingSlope', 'spectralFlux_sma3_amean',\n",
    "       'spectralFlux_sma3_stddevNorm', 'mfcc1_sma3_amean',\n",
    "       'mfcc1_sma3_stddevNorm', 'mfcc2_sma3_amean', 'mfcc2_sma3_stddevNorm',\n",
    "       'mfcc3_sma3_amean', 'mfcc3_sma3_stddevNorm', 'mfcc4_sma3_amean',\n",
    "       'mfcc4_sma3_stddevNorm', 'jitterLocal_sma3nz_amean',\n",
    "       'jitterLocal_sma3nz_stddevNorm', 'shimmerLocaldB_sma3nz_amean',\n",
    "       'shimmerLocaldB_sma3nz_stddevNorm', 'HNRdBACF_sma3nz_amean',\n",
    "       'HNRdBACF_sma3nz_stddevNorm', 'logRelF0-H1-H2_sma3nz_amean',\n",
    "       'logRelF0-H1-H2_sma3nz_stddevNorm', 'logRelF0-H1-A3_sma3nz_amean',\n",
    "       'logRelF0-H1-A3_sma3nz_stddevNorm', 'F1frequency_sma3nz_amean',\n",
    "       'F1frequency_sma3nz_stddevNorm', 'F1bandwidth_sma3nz_amean',\n",
    "       'F1bandwidth_sma3nz_stddevNorm', 'F1amplitudeLogRelF0_sma3nz_amean',\n",
    "       'F1amplitudeLogRelF0_sma3nz_stddevNorm', 'F2frequency_sma3nz_amean',\n",
    "       'F2frequency_sma3nz_stddevNorm', 'F2bandwidth_sma3nz_amean',\n",
    "       'F2bandwidth_sma3nz_stddevNorm', 'F2amplitudeLogRelF0_sma3nz_amean',\n",
    "       'F2amplitudeLogRelF0_sma3nz_stddevNorm', 'F3frequency_sma3nz_amean',\n",
    "       'F3frequency_sma3nz_stddevNorm', 'F3bandwidth_sma3nz_amean',\n",
    "       'F3bandwidth_sma3nz_stddevNorm', 'F3amplitudeLogRelF0_sma3nz_amean',\n",
    "       'F3amplitudeLogRelF0_sma3nz_stddevNorm', 'alphaRatioV_sma3nz_amean',\n",
    "       'alphaRatioV_sma3nz_stddevNorm', 'hammarbergIndexV_sma3nz_amean',\n",
    "       'hammarbergIndexV_sma3nz_stddevNorm', 'slopeV0-500_sma3nz_amean',\n",
    "       'slopeV0-500_sma3nz_stddevNorm', 'slopeV500-1500_sma3nz_amean',\n",
    "       'slopeV500-1500_sma3nz_stddevNorm', 'spectralFluxV_sma3nz_amean',\n",
    "       'spectralFluxV_sma3nz_stddevNorm', 'mfcc1V_sma3nz_amean',\n",
    "       'mfcc1V_sma3nz_stddevNorm', 'mfcc2V_sma3nz_amean',\n",
    "       'mfcc2V_sma3nz_stddevNorm', 'mfcc3V_sma3nz_amean',\n",
    "       'mfcc3V_sma3nz_stddevNorm', 'mfcc4V_sma3nz_amean',\n",
    "       'mfcc4V_sma3nz_stddevNorm', 'alphaRatioUV_sma3nz_amean',\n",
    "       'hammarbergIndexUV_sma3nz_amean', 'slopeUV0-500_sma3nz_amean',\n",
    "       'slopeUV500-1500_sma3nz_amean', 'spectralFluxUV_sma3nz_amean',\n",
    "       'loudnessPeaksPerSec', 'VoicedSegmentsPerSec',\n",
    "       'MeanVoicedSegmentLengthSec', 'StddevVoicedSegmentLengthSec',\n",
    "       'MeanUnvoicedSegmentLength', 'StddevUnvoicedSegmentLength',\n",
    "       'equivalentSoundLevel_dBp']\n",
    "\n",
    "\n",
    "# from classification_wo_correlated_features.ipynb features that correlate least with biased features\n",
    "uncorrelated_features = ['mfcc4V_sma3nz_amean',\n",
    "       'F0semitoneFrom27.5Hz_sma3nz_meanFallingSlope', 'mfcc1_sma3_amean',\n",
    "       'F3bandwidth_sma3nz_stddevNorm',\n",
    "       'F0semitoneFrom27.5Hz_sma3nz_stddevRisingSlope',\n",
    "       'F1frequency_sma3nz_stddevNorm', 'jitterLocal_sma3nz_stddevNorm',\n",
    "       'F0semitoneFrom27.5Hz_sma3nz_stddevFallingSlope',\n",
    "       'alphaRatioV_sma3nz_stddevNorm', 'mfcc1_sma3_stddevNorm',\n",
    "       'F0semitoneFrom27.5Hz_sma3nz_meanRisingSlope', 'mfcc4_sma3_amean',\n",
    "       'F3frequency_sma3nz_amean', 'mfcc2_sma3_amean',\n",
    "       'VoicedSegmentsPerSec', 'F1bandwidth_sma3nz_amean',\n",
    "       'mfcc2V_sma3nz_amean', 'F3frequency_sma3nz_stddevNorm',\n",
    "       'hammarbergIndexV_sma3nz_stddevNorm',\n",
    "       'logRelF0-H1-H2_sma3nz_amean', 'slopeV500-1500_sma3nz_stddevNorm',\n",
    "       'F2bandwidth_sma3nz_amean', 'mfcc3_sma3_amean',\n",
    "       'F2bandwidth_sma3nz_stddevNorm', 'alphaRatioV_sma3nz_amean',\n",
    "       'mfcc2_sma3_stddevNorm', 'mfcc1V_sma3nz_amean',\n",
    "       'slopeUV0-500_sma3nz_amean', 'mfcc1V_sma3nz_stddevNorm',\n",
    "       'mfcc3V_sma3nz_amean', 'F2frequency_sma3nz_amean',\n",
    "       'logRelF0-H1-A3_sma3nz_amean', 'hammarbergIndexV_sma3nz_amean',\n",
    "       'F1bandwidth_sma3nz_stddevNorm', 'mfcc3_sma3_stddevNorm',\n",
    "       'mfcc2V_sma3nz_stddevNorm', 'F1frequency_sma3nz_amean',\n",
    "       'F2frequency_sma3nz_stddevNorm',\n",
    "       'logRelF0-H1-H2_sma3nz_stddevNorm', 'mfcc4V_sma3nz_stddevNorm',\n",
    "       'mfcc4_sma3_stddevNorm', 'F3bandwidth_sma3nz_amean',\n",
    "       'mfcc3V_sma3nz_stddevNorm', 'slopeV0-500_sma3nz_stddevNorm']"
   ]
  },
  {
   "cell_type": "code",
   "execution_count": 62,
   "id": "6bd09080-1cb7-4a02-a352-8b95ee142994",
   "metadata": {},
   "outputs": [
    {
     "ename": "NameError",
     "evalue": "name 'BytesIO' is not defined",
     "output_type": "error",
     "traceback": [
      "\u001b[0;31m---------------------------------------------------------------------------\u001b[0m",
      "\u001b[0;31mNameError\u001b[0m                                 Traceback (most recent call last)",
      "\u001b[0;32m<ipython-input-62-1c6ea34af570>\u001b[0m in \u001b[0;36m<module>\u001b[0;34m\u001b[0m\n\u001b[1;32m      6\u001b[0m \u001b[0;34m\u001b[0m\u001b[0m\n\u001b[1;32m      7\u001b[0m \u001b[0murl_path\u001b[0m \u001b[0;34m=\u001b[0m \u001b[0;34mf'https://github.com/danielmlow/vfp/blob/main/data/output/{training_model_name}_{model_name}_{task}.pkl?raw=true'\u001b[0m \u001b[0;31m# speech models trained on reading task\u001b[0m\u001b[0;34m\u001b[0m\u001b[0;34m\u001b[0m\u001b[0m\n\u001b[0;32m----> 8\u001b[0;31m \u001b[0mmfile\u001b[0m \u001b[0;34m=\u001b[0m \u001b[0mBytesIO\u001b[0m\u001b[0;34m(\u001b[0m\u001b[0mrequests\u001b[0m\u001b[0;34m.\u001b[0m\u001b[0mget\u001b[0m\u001b[0;34m(\u001b[0m\u001b[0murl_path\u001b[0m\u001b[0;34m)\u001b[0m\u001b[0;34m.\u001b[0m\u001b[0mcontent\u001b[0m\u001b[0;34m)\u001b[0m \u001b[0;31m# load from url\u001b[0m\u001b[0;34m\u001b[0m\u001b[0;34m\u001b[0m\u001b[0m\n\u001b[0m\u001b[1;32m      9\u001b[0m \u001b[0mmodel\u001b[0m \u001b[0;34m=\u001b[0m \u001b[0mpickle\u001b[0m\u001b[0;34m.\u001b[0m\u001b[0mload\u001b[0m\u001b[0;34m(\u001b[0m\u001b[0mmfile\u001b[0m\u001b[0;34m)\u001b[0m\u001b[0;34m\u001b[0m\u001b[0;34m\u001b[0m\u001b[0m\n",
      "\u001b[0;31mNameError\u001b[0m: name 'BytesIO' is not defined"
     ]
    }
   ],
   "source": [
    "# load pretrained model\n",
    "model_name = 'less-biased'\n",
    "training_model_name = 'rf'\n",
    "task = 'speech'\n",
    "feature_set = uncorrelated_features\n",
    "\n",
    "url_path = f'https://github.com/danielmlow/vfp/blob/main/data/output/{training_model_name}_{model_name}_{task}.pkl?raw=true' # speech models trained on reading task\n",
    "mfile = BytesIO(requests.get(url_path).content) # load from url\n",
    "model = pickle.load(mfile)"
   ]
  },
  {
   "cell_type": "code",
   "execution_count": 61,
   "id": "597c3ec7-b843-4b5e-be2f-34da98f6886e",
   "metadata": {},
   "outputs": [],
   "source": [
    "# let's test on our own data\n",
    "df = pd.read_csv(f'https://github.com/danielmlow/vfp/raw/main/data/input/features/egemaps_vector_{task}_cpp.csv', index_col = 0)\n",
    "X = df[feature_set].values\n",
    "y = df['target'].values\n",
    "\n",
    "# test\n",
    "y_pred = model.predict(X)\n",
    "performance = roc_auc_score(y, y_pred) # Should get perfect performance, since it is testing on the training set\n",
    "performance"
   ]
  },
  {
   "cell_type": "markdown",
   "id": "c2c52bca-dde8-497d-9c06-ce3af579da85",
   "metadata": {},
   "source": [
    "# How to extract features on your own wav files using egemaps\n",
    "\n",
    "To test on your own data, the test set should match our features (egemaps) using the the same variables and sampling rate (16k)"
   ]
  },
  {
   "cell_type": "code",
   "execution_count": 24,
   "id": "a32bd722-ac4c-43c2-a9c4-feaee136c125",
   "metadata": {},
   "outputs": [],
   "source": [
    "from os.path import exists\n",
    "# config: depends whether you're on Google Colab or local\n",
    "\n",
    "\n",
    "# Get URL from github csv by clicking on Download > Copy Link Address\n",
    "\n",
    "load_from_google_drive = False\n",
    "\n",
    "if load_from_google_drive:\n",
    "      # On google colab\n",
    "      # Mount GDrive and attach it to the colab for data I/O\n",
    "    from google.colab import drive\n",
    "    drive.mount('/content/drive')\n",
    "    input_dir = '/content/drive/My Drive/datum/vfp/data/input/'\n",
    "    output_dir = '/content/drive/My Drive/datum/vfp/data/output/'\n",
    "    os.makedirs(output_dir, exist_ok=True)\n",
    "\n",
    "else:\n",
    "  # If using jupyter-lab or jupyter notebook, load locally:\n",
    "  input_dir = './data/input/'\n",
    "  output_dir = './data/output/'\n",
    "\n"
   ]
  },
  {
   "cell_type": "code",
   "execution_count": 39,
   "id": "8a161eda-f652-4fa1-a77c-e895c48dfd74",
   "metadata": {},
   "outputs": [],
   "source": [
    "!pip install -q opensmile"
   ]
  },
  {
   "cell_type": "code",
   "execution_count": 37,
   "id": "fec9f65c-9a42-4494-bf00-75165e06273e",
   "metadata": {},
   "outputs": [],
   "source": [
    "import glob\n",
    "import opensmile"
   ]
  },
  {
   "cell_type": "code",
   "execution_count": 38,
   "id": "c357706f-f776-467a-b665-ecf4b068e78b",
   "metadata": {},
   "outputs": [],
   "source": [
    "wav_dir = './../../../data/blake_private/audio/blake_16khz/*'\n",
    "wav_paths = glob.glob(wav_dir)"
   ]
  },
  {
   "cell_type": "code",
   "execution_count": 40,
   "id": "83f82a7b-60b3-4f6a-a093-e38b0145f4a6",
   "metadata": {},
   "outputs": [],
   "source": [
    "smile = opensmile.Smile(\n",
    "            feature_set=opensmile.FeatureSet.eGeMAPSv02, #or path to conf: 'gemaps/eGeMAPSv02.conf'\n",
    "            feature_level=feature_level,\n",
    "            sampling_rate=16000,\n",
    "            resample=True,\n",
    "            # num_workers = 4, \n",
    "            verbose=True,\n",
    "        )\n",
    "feature_vectors = smile.process_files([\n",
    "    wav_path\n",
    "    \n",
    "\n",
    "])    \n",
    "df = feature_vectors.reset_index()\n"
   ]
  },
  {
   "cell_type": "markdown",
   "id": "25d3de98-07dd-40dc-b643-7d7e54e704db",
   "metadata": {},
   "source": [
    "# How we trained these models"
   ]
  },
  {
   "cell_type": "code",
   "execution_count": 56,
   "id": "eec295ce-d4b7-48e5-939e-0cd3a9e9e14b",
   "metadata": {},
   "outputs": [],
   "source": [
    "# We choose Random Forest as it tends to have highest median classification across analyses\n",
    "model = RandomForestClassifier(n_estimators= 100)\n",
    "training_model_name = 'rf'\n",
    "\n",
    "# Others:\n",
    "# LogisticRegressionCV(solver='liblinear', penalty = 'l1', max_iter = 100)\n",
    "# MLPClassifier(alpha = 1, max_iter= 1000)\n",
    "# SGDClassifier(loss='log', penalty=\"elasticnet\", early_stopping=True, max_iter = 5000)"
   ]
  },
  {
   "cell_type": "code",
   "execution_count": 57,
   "id": "a91cb19c-b4b6-4b6b-8a6f-6b5b35d2ad8c",
   "metadata": {},
   "outputs": [
    {
     "name": "stdout",
     "output_type": "stream",
     "text": [
      "(453, 88) (453,)\n",
      "performance: speech biased 1.0\n",
      "(453, 44) (453,)\n",
      "performance: speech less-biased 1.0\n",
      "(455, 88) (455,)\n",
      "performance: vowel biased 1.0\n",
      "(455, 44) (455,)\n",
      "performance: vowel less-biased 1.0\n"
     ]
    }
   ],
   "source": [
    "for task in ['speech', 'vowel']:\n",
    "    df = pd.read_csv(input_dir + f'features/egemaps_vector_{task}_cpp.csv', index_col = 0)\n",
    "\n",
    "    for feature_set, model_name in zip([all_features, uncorrelated_features], \n",
    "                                       ['biased', 'less-biased']\n",
    "                                      ):\n",
    "\n",
    "        X = df[feature_set].values\n",
    "        y = df['target'].values\n",
    "        print(X.shape, y.shape)\n",
    "\n",
    "        # train and save model\n",
    "\n",
    "        output_path = output_dir+f'{training_model_name}_{model_name}_{task}.pkl'\n",
    "\n",
    "        model.fit(X,y) # train\n",
    "\n",
    "        # save\n",
    "        with open(output_path,'wb') as f:\n",
    "            pickle.dump(model,f)\n",
    "\n",
    "        # load\n",
    "        with open(output_path, 'rb') as f:\n",
    "            model = pickle.load(f)\n",
    "\n",
    "        y_pred = model.predict(X)\n",
    "        performance = roc_auc_score(y, y_pred) # Should get perfect performance, since it is testing on the training set\n",
    "        print('performance:', task, model_name, performance)\n",
    "\n"
   ]
  },
  {
   "cell_type": "markdown",
   "id": "93eb3ac4-292c-44bd-b78f-825e82fbce7a",
   "metadata": {},
   "source": [
    "# Other features"
   ]
  },
  {
   "cell_type": "code",
   "execution_count": 50,
   "id": "27c4abe5-1080-4046-b878-d12c67317ee6",
   "metadata": {},
   "outputs": [],
   "source": [
    "cpp_features = ['cpp_amean', 'cpp_stddevNorm', 'cpp_percentile20', 'cpp_percentile80']"
   ]
  }
 ],
 "metadata": {
  "kernelspec": {
   "display_name": "Python 3",
   "language": "python",
   "name": "python3"
  },
  "language_info": {
   "codemirror_mode": {
    "name": "ipython",
    "version": 3
   },
   "file_extension": ".py",
   "mimetype": "text/x-python",
   "name": "python",
   "nbconvert_exporter": "python",
   "pygments_lexer": "ipython3",
   "version": "3.7.7"
  }
 },
 "nbformat": 4,
 "nbformat_minor": 5
}
